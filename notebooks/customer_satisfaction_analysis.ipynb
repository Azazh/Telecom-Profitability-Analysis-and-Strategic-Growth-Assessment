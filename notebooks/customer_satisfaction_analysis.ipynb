{
 "cells": [
  {
   "cell_type": "code",
   "execution_count": 1,
   "metadata": {},
   "outputs": [],
   "source": [
    "import os\n",
    "import sys\n",
    "\n",
    "\n",
    "sys.path.append(os.path.abspath(\"../scripts\"))\n",
    "import db_config\n",
    "from satisfaction_analyzer import SatisfactionAnalyzer"
   ]
  },
  {
   "cell_type": "code",
   "execution_count": 2,
   "metadata": {},
   "outputs": [],
   "source": [
    "# SQL query to fetch the required dataset\n",
    "QUERY = \"SELECT * FROM xdr_data\"\n",
    "# Initialize the analysis class with the SQL query\n",
    "data=db_config.fetch_data(QUERY)"
   ]
  },
  {
   "cell_type": "code",
   "execution_count": 3,
   "metadata": {},
   "outputs": [
    {
     "name": "stdout",
     "output_type": "stream",
     "text": [
      "Data preprocessed successfully.\n",
      "Engagement and experience scores calculated successfully.\n",
      "Satisfaction scores calculated successfully.\n",
      "Regression model built successfully with MSE: 0.00\n",
      "K-means clustering completed successfully.\n",
      "Aggregated scores per cluster:\n",
      "         EngagementScore  ExperienceScore  SatisfactionScore\n",
      "Cluster                                                     \n",
      "0           1.719828e+06        96.961304       8.599625e+05\n",
      "1           3.340793e+07        86.487695       1.670401e+07\n",
      "Data exported to PostgreSQL table 'customer_satisfaction' successfully.\n"
     ]
    }
   ],
   "source": [
    "# Assuming dataset file is named 'telecom_dataset.csv'\n",
    "\n",
    "analyzer = SatisfactionAnalyzer(data)\n",
    "analyzer.run_analysis()\n",
    "analyzer.export_to_postgresql(\n",
    "    host='localhost', \n",
    "    database='telecom_analysis', \n",
    "    user='postgres', \n",
    "    password='5492460', \n",
    "    table_name='customer_satisfaction'\n",
    ")\n"
   ]
  }
 ],
 "metadata": {
  "kernelspec": {
   "display_name": "myenv",
   "language": "python",
   "name": "python3"
  },
  "language_info": {
   "codemirror_mode": {
    "name": "ipython",
    "version": 3
   },
   "file_extension": ".py",
   "mimetype": "text/x-python",
   "name": "python",
   "nbconvert_exporter": "python",
   "pygments_lexer": "ipython3",
   "version": "3.10.12"
  }
 },
 "nbformat": 4,
 "nbformat_minor": 2
}
