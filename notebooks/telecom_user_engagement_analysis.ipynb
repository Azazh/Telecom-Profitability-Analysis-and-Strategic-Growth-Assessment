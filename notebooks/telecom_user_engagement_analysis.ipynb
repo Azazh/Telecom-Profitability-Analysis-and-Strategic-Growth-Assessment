{
 "cells": [
  {
   "cell_type": "code",
   "execution_count": 1,
   "metadata": {},
   "outputs": [],
   "source": [
    "import sys\n",
    "import os\n",
    "# Add the parent directory to the Python path\n",
    "sys.path.append(os.path.abspath(\"../scripts\"))\n",
    "from telecom_user_engagement_analysis import TelecomUserEngagement\n",
    "import db_config"
   ]
  },
  {
   "cell_type": "code",
   "execution_count": 2,
   "metadata": {},
   "outputs": [],
   "source": [
    "# load dataset\n",
    "# SQL query to fetch the required dataset\n",
    "QUERY = \"SELECT * FROM xdr_data\"\n",
    "# Initialize the analysis class with the SQL query\n",
    "data=db_config.fetch_data(QUERY)"
   ]
  },
  {
   "cell_type": "code",
   "execution_count": 3,
   "metadata": {},
   "outputs": [],
   "source": [
    "# Initialize the class with the dataset path\n",
    "engagement_analysis = TelecomUserEngagement(data)\n",
    "\n",
    "# Aggregate metrics\n",
    "engagement_analysis.aggregate_metrics()"
   ]
  },
  {
   "cell_type": "code",
   "execution_count": 4,
   "metadata": {},
   "outputs": [],
   "source": [
    "# Get top customers for each metric\n",
    "top_sessions = engagement_analysis.get_top_customers('Bearer Id')\n",
    "top_duration = engagement_analysis.get_top_customers('Dur. (ms)')\n",
    "top_traffic = engagement_analysis.get_top_customers('Total Traffic (Bytes)')"
   ]
  },
  {
   "cell_type": "code",
   "execution_count": null,
   "metadata": {},
   "outputs": [],
   "source": [
    "# Print results\n",
    "print(\"Top 10 Customers by Sessions Frequency:\")\n",
    "print(top_sessions)\n",
    "\n",
    "print(\"\\nTop 10 Customers by Session Duration:\")\n",
    "print(top_duration)\n",
    "\n",
    "print(\"\\nTop 10 Customers by Total Traffic:\")\n",
    "print(top_traffic)"
   ]
  },
  {
   "cell_type": "code",
   "execution_count": null,
   "metadata": {},
   "outputs": [],
   "source": [
    "\n",
    "# Plot results\n",
    "engagement_analysis.plot_top_customers('Bearer Id', 'Top 10 Customers by Sessions Frequency')\n",
    "engagement_analysis.plot_top_customers('Dur. (ms)', 'Top 10 Customers by Session Duration')\n",
    "engagement_analysis.plot_top_customers('Total Traffic (Bytes)', 'Top 10 Customers by Total Traffic')\n"
   ]
  },
  {
   "cell_type": "code",
   "execution_count": null,
   "metadata": {},
   "outputs": [],
   "source": [
    "# Normalize metrics\n",
    "engagement_analysis.normalize_metrics()\n",
    "\n",
    "# Run K-means clustering\n",
    "engagement_analysis.run_kmeans(n_clusters=3)\n",
    "\n",
    "# Print results\n",
    "print(\"Clustered Data with Labels:\")\n",
    "print(engagement_analysis.normalized_data[['MSISDN/Number', 'Bearer Id', 'Dur. (ms)', 'Total Traffic (Bytes)', 'Cluster']])\n",
    "\n",
    "# Visualize the clusters\n",
    "engagement_analysis.plot_clusters()"
   ]
  },
  {
   "cell_type": "code",
   "execution_count": null,
   "metadata": {},
   "outputs": [],
   "source": [
    "# Aggregate user total traffic per application\n",
    "engagement_analysis.aggregate_traffic_per_application()\n",
    "\n",
    "#  Display top 10 users per application\n",
    "for app, top_users in engagement_analysis.top_app_users.items():\n",
    "    print(f\"Top 10 Users for {app}:\")\n",
    "    print(top_users)\n",
    "\n",
    "#  Plot the top 3 most used applications\n",
    "engagement_analysis.plot_top_applications()\n",
    "\n",
    "# Use elbow method to determine optimal k\n",
    "engagement_analysis.elbow_method()"
   ]
  }
 ],
 "metadata": {
  "kernelspec": {
   "display_name": "myenv",
   "language": "python",
   "name": "python3"
  },
  "language_info": {
   "codemirror_mode": {
    "name": "ipython",
    "version": 3
   },
   "file_extension": ".py",
   "mimetype": "text/x-python",
   "name": "python",
   "nbconvert_exporter": "python",
   "pygments_lexer": "ipython3",
   "version": "3.10.12"
  }
 },
 "nbformat": 4,
 "nbformat_minor": 2
}
